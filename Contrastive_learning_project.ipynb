{
  "cells": [
    {
      "attachments": {},
      "cell_type": "markdown",
      "metadata": {},
      "source": [
        "# Introduction\n",
        "Siamese Networks are neural networks which share weights between two or more sister networks, each producing embedding vectors of its respective inputs.\\\n",
        "In supervised similarity learning, the networks are then trained to maximize the contrast (distance) between embeddings of inputs of different classes,\\\n",
        "while minimizing the distance between embeddings of similar classes, resulting in embedding spaces that reflect the class segmentation of the training inputs.\n"
      ]
    },
    {
      "cell_type": "code",
      "execution_count": 25,
      "metadata": {
        "id": "rtE2GsrEwvqO"
      },
      "outputs": [],
      "source": [
        "# setup: import libraries\n",
        "import random\n",
        "import numpy as np\n",
        "import tensorflow as tf\n",
        "from tensorflow import keras\n",
        "from tensorflow.keras import layers\n",
        "import matplotlib.pyplot as plt"
      ]
    },
    {
      "cell_type": "markdown",
      "metadata": {},
      "source": [
        "# Hyperparameters"
      ]
    },
    {
      "cell_type": "code",
      "execution_count": 26,
      "metadata": {
        "id": "3mdmIH6_wvwv"
      },
      "outputs": [],
      "source": [
        "epochs = 10\n",
        "batch_size = 16\n",
        "margin = 1  # Margin for constrastive loss."
      ]
    },
    {
      "cell_type": "code",
      "execution_count": 27,
      "metadata": {
        "id": "yAV3xsUDwvz7"
      },
      "outputs": [],
      "source": [
        "# Load the MNIST dataset\n",
        "(x_train_val, y_train_val), (x_test, y_test) = keras.datasets.mnist.load_data()\n",
        "\n",
        "# Change the data type to a floating point format\n",
        "x_train_val = x_train_val.astype(\"float32\")\n",
        "x_test = x_test.astype(\"float32\")"
      ]
    },
    {
      "cell_type": "markdown",
      "metadata": {},
      "source": [
        "# Define training and validation sets"
      ]
    },
    {
      "cell_type": "code",
      "execution_count": 28,
      "metadata": {
        "id": "LQHodAx8wv2w"
      },
      "outputs": [],
      "source": [
        "# Keep 50% of train_val  in validation set\n",
        "x_train, x_val = x_train_val[:30000], x_train_val[30000:]\n",
        "y_train, y_val = y_train_val[:30000], y_train_val[30000:]\n",
        "del x_train_val, y_train_val"
      ]
    },
    {
      "cell_type": "markdown",
      "metadata": {},
      "source": [
        "# Creating Pair of images"
      ]
    },
    {
      "cell_type": "code",
      "execution_count": 29,
      "metadata": {
        "id": "UwVHAHQ_wv5l"
      },
      "outputs": [],
      "source": [
        "def make_pairs(x, y):\n",
        "    \"\"\"Creates a tuple containing image pairs with corresponding label.\n",
        "\n",
        "    Arguments:\n",
        "        x: List containing images, each index in this list corresponds to one image.\n",
        "        y: List containing labels, each label with datatype of `int`.\n",
        "\n",
        "    Returns:\n",
        "        Tuple containing two numpy arrays as (pairs_of_samples, labels),\n",
        "        where pairs_of_samples' shape is (2len(x), 2,n_features_dims) and\n",
        "        labels are a binary array of shape (2len(x)).\n",
        "    \"\"\"\n",
        "\n",
        "    num_classes = max(y) + 1\n",
        "    digit_indices = [np.where(y == i)[0] for i in range(num_classes)]\n",
        "\n",
        "    pairs = []\n",
        "    labels = []\n",
        "\n",
        "    for idx1 in range(len(x)):\n",
        "        # add a matching example\n",
        "        x1 = x[idx1]\n",
        "        label1 = y[idx1]\n",
        "        idx2 = random.choice(digit_indices[label1])\n",
        "        x2 = x[idx2]\n",
        "\n",
        "        pairs += [[x1, x2]]\n",
        "        labels += [0]\n",
        "\n",
        "        # add a non-matching example\n",
        "        label2 = random.randint(0, num_classes - 1)\n",
        "        while label2 == label1:\n",
        "            label2 = random.randint(0, num_classes - 1)\n",
        "\n",
        "        idx2 = random.choice(digit_indices[label2])\n",
        "        x2 = x[idx2]\n",
        "\n",
        "        pairs += [[x1, x2]]\n",
        "        labels += [1]\n",
        "\n",
        "    return np.array(pairs), np.array(labels).astype(\"float32\")\n",
        "\n",
        "\n",
        "# make train pairs\n",
        "pairs_train, labels_train = make_pairs(x_train, y_train)\n",
        "\n",
        "# make validation pairs\n",
        "pairs_val, labels_val = make_pairs(x_val, y_val)\n",
        "\n",
        "# make test pairs\n",
        "pairs_test, labels_test = make_pairs(x_test, y_test)"
      ]
    },
    {
      "cell_type": "code",
      "execution_count": 30,
      "metadata": {
        "id": "s6eE7UWrwv8M"
      },
      "outputs": [],
      "source": [
        "pairs_train.shape = (60000, 2, 28, 28)"
      ]
    },
    {
      "cell_type": "code",
      "execution_count": 31,
      "metadata": {
        "id": "3y9agI0Mxdxm"
      },
      "outputs": [],
      "source": [
        "# Split the training pairs\n",
        "x_train_1 = pairs_train[:, 0]  # x_train_1.shape is (60000, 28, 28)\n",
        "x_train_2 = pairs_train[:, 1]"
      ]
    },
    {
      "cell_type": "code",
      "execution_count": 32,
      "metadata": {
        "id": "ZpcNXLMhxd1e"
      },
      "outputs": [],
      "source": [
        "# Split the validation pairs\n",
        "x_val_1 = pairs_val[:, 0]  # x_val_1.shape = (60000, 28, 28)\n",
        "x_val_2 = pairs_val[:, 1]\n",
        "\n",
        "# Split the test pairs\n",
        "x_test_1 = pairs_test[:, 0]  # x_test_1.shape = (20000, 28, 28)\n",
        "x_test_2 = pairs_test[:, 1]"
      ]
    },
    {
      "cell_type": "markdown",
      "metadata": {},
      "source": [
        "# Visualize pairs and their labels"
      ]
    },
    {
      "cell_type": "code",
      "execution_count": 33,
      "metadata": {
        "id": "SPfTLnnFxd4m"
      },
      "outputs": [],
      "source": [
        "def visualize(pairs, labels, to_show=6, num_col=3, predictions=None, test=False):\n",
        "    \"\"\"Creates a plot of pairs and labels, and prediction if it's test dataset.\n",
        "\n",
        "    Arguments:\n",
        "        pairs: Numpy Array, of pairs to visualize, having shape\n",
        "               (Number of pairs, 2, 28, 28).\n",
        "        to_show: Int, number of examples to visualize (default is 6)\n",
        "                `to_show` must be an integral multiple of `num_col`.\n",
        "                 Otherwise it will be trimmed if it is greater than num_col,\n",
        "                 and incremented if if it is less then num_col.\n",
        "        num_col: Int, number of images in one row - (default is 3)\n",
        "                 For test and train respectively, it should not exceed 3 and 7.\n",
        "        predictions: Numpy Array of predictions with shape (to_show, 1) -\n",
        "                     (default is None)\n",
        "                     Must be passed when test=True.\n",
        "        test: Boolean telling whether the dataset being visualized is\n",
        "              train dataset or test dataset - (default False).\n",
        "\n",
        "    Returns:\n",
        "        None.\n",
        "    \"\"\"\n",
        "\n",
        "    # Define num_row\n",
        "    # If to_show % num_col != 0\n",
        "    #    trim to_show,\n",
        "    #       to trim to_show limit num_row to the point where\n",
        "    #       to_show % num_col == 0\n",
        "    #\n",
        "    # If to_show//num_col == 0\n",
        "    #    then it means num_col is greater then to_show\n",
        "    #    increment to_show\n",
        "    #       to increment to_show set num_row to 1\n",
        "    num_row = to_show // num_col if to_show // num_col != 0 else 1\n",
        "\n",
        "    # `to_show` must be an integral multiple of `num_col`\n",
        "    #  we found num_row and we have num_col\n",
        "    #  to increment or decrement to_show\n",
        "    #  to make it integral multiple of `num_col`\n",
        "    #  simply set it equal to num_row * num_col\n",
        "    to_show = num_row * num_col\n",
        "\n",
        "    # Plot the images\n",
        "    fig, axes = plt.subplots(num_row, num_col, figsize=(5, 5))\n",
        "    for i in range(to_show):\n",
        "\n",
        "        # If the number of rows is 1, the axes array is one-dimensional\n",
        "        if num_row == 1:\n",
        "            ax = axes[i % num_col]\n",
        "        else:\n",
        "            ax = axes[i // num_col, i % num_col]\n",
        "\n",
        "        ax.imshow(tf.concat([pairs[i][0], pairs[i][1]], axis=1), cmap=\"gray\")\n",
        "        ax.set_axis_off()\n",
        "        if test:\n",
        "            ax.set_title(\"True: {} | Pred: {:.5f}\".format(labels[i], predictions[i][0]))\n",
        "        else:\n",
        "            ax.set_title(\"Label: {}\".format(labels[i]))\n",
        "    if test:\n",
        "        plt.tight_layout(rect=(0, 0, 1.9, 1.9), w_pad=0.0)\n",
        "    else:\n",
        "        plt.tight_layout(rect=(0, 0, 1.5, 1.5))\n",
        "    plt.show()"
      ]
    },
    {
      "cell_type": "markdown",
      "metadata": {},
      "source": [
        "# Inspect training pairs"
      ]
    },
    {
      "cell_type": "code",
      "execution_count": 34,
      "metadata": {
        "colab": {
          "base_uri": "https://localhost:8080/",
          "height": 143
        },
        "id": "YSwdbNaSxd8M",
        "outputId": "a740ed01-3120-4673-98c4-9416c26cc32d"
      },
      "outputs": [
        {
          "data": {
            "image/png": "[encoded data removed]",
            "text/plain": [
              "<Figure size 500x500 with 4 Axes>"
            ]
          },
          "metadata": {},
          "output_type": "display_data"
        }
      ],
      "source": [
        "visualize(pairs_train[:-1], labels_train[:-1], to_show=4, num_col=4)"
      ]
    },
    {
      "cell_type": "markdown",
      "metadata": {},
      "source": [
        "# Inspect validation pairs"
      ]
    },
    {
      "cell_type": "code",
      "execution_count": 35,
      "metadata": {
        "colab": {
          "base_uri": "https://localhost:8080/",
          "height": 143
        },
        "id": "RxDaBfGmxd-q",
        "outputId": "8fb37e2d-ff4d-4b1d-bbaa-7a8ab16794a2"
      },
      "outputs": [
        {
          "data": {
            "image/png": "[encoded data removed]",
            "text/plain": [
              "<Figure size 500x500 with 4 Axes>"
            ]
          },
          "metadata": {},
          "output_type": "display_data"
        }
      ],
      "source": [
        "visualize(pairs_val[:-1], labels_val[:-1], to_show=4, num_col=4)"
      ]
    },
    {
      "cell_type": "markdown",
      "metadata": {},
      "source": [
        "# Inspect test pairs"
      ]
    },
    {
      "cell_type": "code",
      "execution_count": 36,
      "metadata": {
        "colab": {
          "base_uri": "https://localhost:8080/",
          "height": 143
        },
        "id": "CEndQ94XxeBN",
        "outputId": "70af05d7-690f-47bb-817b-96d34d16f8cd"
      },
      "outputs": [
        {
          "data": {
            "image/png": "[encoded data removed]",
            "text/plain": [
              "<Figure size 500x500 with 4 Axes>"
            ]
          },
          "metadata": {},
          "output_type": "display_data"
        }
      ],
      "source": [
        "visualize(pairs_test[:-1], labels_test[:-1], to_show=4, num_col=4)"
      ]
    },
    {
      "attachments": {},
      "cell_type": "markdown",
      "metadata": {},
      "source": [
        "# Define the model\n",
        "There are two input layers, each leading to its own network, which produces embeddings. A Lambda layer then merges them using an Euclidean distance and\\\n",
        "the merged output is fed to the final network.\n",
        "Provided two tensors t1 and t2\n",
        "Euclidean distance = sqrt(sum(square(t1-t2)))"
      ]
    },
    {
      "cell_type": "code",
      "execution_count": 37,
      "metadata": {
        "id": "UviUBifawv-4"
      },
      "outputs": [],
      "source": [
        "def euclidean_distance(vects):\n",
        "    \"\"\"Find the Euclidean distance between two vectors.\n",
        "\n",
        "    Arguments:\n",
        "        vects: List containing two tensors of same length.\n",
        "\n",
        "    Returns:\n",
        "        Tensor containing euclidean distance\n",
        "        (as floating point value) between vectors.\n",
        "    \"\"\"\n",
        "\n",
        "    x, y = vects\n",
        "    sum_square = tf.math.reduce_sum(tf.math.square(x - y), axis=1, keepdims=True)\n",
        "    return tf.math.sqrt(tf.math.maximum(sum_square, tf.keras.backend.epsilon()))\n",
        "\n",
        "\n",
        "input = layers.Input((28, 28, 1))\n",
        "x = tf.keras.layers.BatchNormalization()(input)\n",
        "x = layers.Conv2D(4, (5, 5), activation=\"tanh\")(x)\n",
        "x = layers.AveragePooling2D(pool_size=(2, 2))(x)\n",
        "x = layers.Conv2D(16, (5, 5), activation=\"tanh\")(x)\n",
        "x = layers.AveragePooling2D(pool_size=(2, 2))(x)\n",
        "x = layers.Flatten()(x)\n",
        "\n",
        "x = tf.keras.layers.BatchNormalization()(x)\n",
        "x = layers.Dense(10, activation=\"tanh\")(x)\n",
        "embedding_network = keras.Model(input, x)\n",
        "\n",
        "\n",
        "input_1 = layers.Input((28, 28, 1))\n",
        "input_2 = layers.Input((28, 28, 1))\n",
        "\n",
        "# As mentioned above, Siamese Network share weights between\n",
        "# tower networks (sister networks). To allow this, we will use\n",
        "# same embedding network for both tower networks.\n",
        "tower_1 = embedding_network(input_1)\n",
        "tower_2 = embedding_network(input_2)\n",
        "\n",
        "merge_layer = layers.Lambda(euclidean_distance)([tower_1, tower_2])\n",
        "normal_layer = tf.keras.layers.BatchNormalization()(merge_layer)\n",
        "output_layer = layers.Dense(1, activation=\"sigmoid\")(normal_layer)\n",
        "siamese = keras.Model(inputs=[input_1, input_2], outputs=output_layer)"
      ]
    },
    {
      "cell_type": "markdown",
      "metadata": {},
      "source": [
        "# Define the constrastive Loss"
      ]
    },
    {
      "cell_type": "code",
      "execution_count": 38,
      "metadata": {
        "id": "BQwLDY3-wwBc"
      },
      "outputs": [],
      "source": [
        "def loss(margin=1):\n",
        "    \"\"\"Provides 'constrastive_loss' an enclosing scope with variable 'margin'.\n",
        "\n",
        "    Arguments:\n",
        "        margin: Integer, defines the baseline for distance for which pairs\n",
        "                should be classified as dissimilar. - (default is 1).\n",
        "\n",
        "    Returns:\n",
        "        'constrastive_loss' function with data ('margin') attached.\n",
        "    \"\"\"\n",
        "\n",
        "    # Contrastive loss = mean( (1-true_value) * square(prediction) +\n",
        "    #                         true_value * square( max(margin-prediction, 0) ))\n",
        "    def contrastive_loss(y_true, y_pred):\n",
        "        \"\"\"Calculates the constrastive loss.\n",
        "\n",
        "        Arguments:\n",
        "            y_true: List of labels, each label is of type float32.\n",
        "            y_pred: List of predictions of same length as of y_true,\n",
        "                    each label is of type float32.\n",
        "\n",
        "        Returns:\n",
        "            A tensor containing constrastive loss as floating point value.\n",
        "        \"\"\"\n",
        "\n",
        "        square_pred = tf.math.square(y_pred)\n",
        "        margin_square = tf.math.square(tf.math.maximum(margin - (y_pred), 0))\n",
        "        return tf.math.reduce_mean(\n",
        "            (1 - y_true) * square_pred + (y_true) * margin_square\n",
        "        )\n",
        "\n",
        "    return contrastive_loss"
      ]
    },
    {
      "cell_type": "markdown",
      "metadata": {},
      "source": [
        "# Compile the model with the contrastive loss"
      ]
    },
    {
      "cell_type": "code",
      "execution_count": 39,
      "metadata": {
        "colab": {
          "base_uri": "https://localhost:8080/"
        },
        "id": "oU8bdBx_yQ8W",
        "outputId": "3f302fde-0d2c-4224-f896-8eb0ad9818df"
      },
      "outputs": [
        {
          "name": "stdout",
          "output_type": "stream",
          "text": [
            "Model: \"model_1\"\n",
            "__________________________________________________________________________________________________\n",
            " Layer (type)                   Output Shape         Param #     Connected to                     \n",
            "==================================================================================================\n",
            " input_2 (InputLayer)           [(None, 28, 28, 1)]  0           []                               \n",
            "                                                                                                  \n",
            " input_3 (InputLayer)           [(None, 28, 28, 1)]  0           []                               \n",
            "                                                                                                  \n",
            " model (Functional)             (None, 10)           5318        ['input_2[0][0]',                \n",
            "                                                                  'input_3[0][0]']                \n",
            "                                                                                                  \n",
            " lambda (Lambda)                (None, 1)            0           ['model[0][0]',                  \n",
            "                                                                  'model[1][0]']                  \n",
            "                                                                                                  \n",
            " batch_normalization_2 (BatchNo  (None, 1)           4           ['lambda[0][0]']                 \n",
            " rmalization)                                                                                     \n",
            "                                                                                                  \n",
            " dense_2 (Dense)                (None, 1)            2           ['batch_normalization_2[0][0]']  \n",
            "                                                                                                  \n",
            "==================================================================================================\n",
            "Total params: 5,324\n",
            "Trainable params: 4,808\n",
            "Non-trainable params: 516\n",
            "__________________________________________________________________________________________________\n"
          ]
        }
      ],
      "source": [
        "siamese.compile(loss=loss(margin=margin), optimizer=\"RMSprop\", metrics=[\"accuracy\"])\n",
        "siamese.summary()"
      ]
    },
    {
      "cell_type": "markdown",
      "metadata": {},
      "source": [
        "# Train the model"
      ]
    },
    {
      "cell_type": "code",
      "execution_count": 42,
      "metadata": {
        "colab": {
          "base_uri": "https://localhost:8080/"
        },
        "id": "LPxAEvXhyQ_4",
        "outputId": "bbbd3260-52ef-4ece-e4ca-f5ca7c5029b4"
      },
      "outputs": [
        {
          "name": "stdout",
          "output_type": "stream",
          "text": [
            "Epoch 1/10\n",
            "3750/3750 [==============================] - 129s 34ms/step - loss: 0.0879 - accuracy: 0.8860 - val_loss: 0.0364 - val_accuracy: 0.9525\n",
            "Epoch 2/10\n",
            "3750/3750 [==============================] - 110s 29ms/step - loss: 0.0497 - accuracy: 0.9342 - val_loss: 0.0264 - val_accuracy: 0.9655\n",
            "Epoch 3/10\n",
            "3750/3750 [==============================] - 90s 24ms/step - loss: 0.0421 - accuracy: 0.9449 - val_loss: 0.0241 - val_accuracy: 0.9688\n",
            "Epoch 4/10\n",
            "3750/3750 [==============================] - 110s 29ms/step - loss: 0.0383 - accuracy: 0.9503 - val_loss: 0.0188 - val_accuracy: 0.9759\n",
            "Epoch 5/10\n",
            "3750/3750 [==============================] - 91s 24ms/step - loss: 0.0348 - accuracy: 0.9546 - val_loss: 0.0187 - val_accuracy: 0.9757\n",
            "Epoch 6/10\n",
            "3750/3750 [==============================] - 90s 24ms/step - loss: 0.0326 - accuracy: 0.9576 - val_loss: 0.0182 - val_accuracy: 0.9766\n",
            "Epoch 7/10\n",
            "3750/3750 [==============================] - 91s 24ms/step - loss: 0.0317 - accuracy: 0.9585 - val_loss: 0.0172 - val_accuracy: 0.9780\n",
            "Epoch 8/10\n",
            "3750/3750 [==============================] - 91s 24ms/step - loss: 0.0309 - accuracy: 0.9602 - val_loss: 0.0166 - val_accuracy: 0.9794\n",
            "Epoch 9/10\n",
            "3750/3750 [==============================] - 109s 29ms/step - loss: 0.0290 - accuracy: 0.9623 - val_loss: 0.0154 - val_accuracy: 0.9808\n",
            "Epoch 10/10\n",
            "3750/3750 [==============================] - 111s 29ms/step - loss: 0.0291 - accuracy: 0.9622 - val_loss: 0.0162 - val_accuracy: 0.9790\n"
          ]
        }
      ],
      "source": [
        "history = siamese.fit(\n",
        "    [x_train_1, x_train_2],\n",
        "    labels_train,\n",
        "    validation_data=([x_val_1, x_val_2], labels_val),\n",
        "    batch_size=batch_size,\n",
        "    epochs=epochs,\n",
        ")"
      ]
    },
    {
      "cell_type": "markdown",
      "metadata": {},
      "source": [
        "# Visualize results"
      ]
    },
    {
      "cell_type": "code",
      "execution_count": 43,
      "metadata": {
        "colab": {
          "base_uri": "https://localhost:8080/",
          "height": 927
        },
        "id": "piYs3M46yREO",
        "outputId": "7af355a8-2393-4c28-aa13-f15fdc5e7fd2"
      },
      "outputs": [
        {
          "data": {
            "image/png": "[encoded data removed]",
            "text/plain": [
              "<Figure size 640x480 with 1 Axes>"
            ]
          },
          "metadata": {},
          "output_type": "display_data"
        },
        {
          "data": {
            "image/png": "[encoded data removed]",
            "text/plain": [
              "<Figure size 640x480 with 1 Axes>"
            ]
          },
          "metadata": {},
          "output_type": "display_data"
        }
      ],
      "source": [
        "def plt_metric(history, metric, title, has_valid=True):\n",
        "    \"\"\"Plots the given 'metric' from 'history'.\n",
        "\n",
        "    Arguments:\n",
        "        history: history attribute of History object returned from Model.fit.\n",
        "        metric: Metric to plot, a string value present as key in 'history'.\n",
        "        title: A string to be used as title of plot.\n",
        "        has_valid: Boolean, true if valid data was passed to Model.fit else false.\n",
        "\n",
        "    Returns:\n",
        "        None.\n",
        "    \"\"\"\n",
        "    plt.plot(history[metric])\n",
        "    if has_valid:\n",
        "        plt.plot(history[\"val_\" + metric])\n",
        "        plt.legend([\"train\", \"validation\"], loc=\"upper left\")\n",
        "    plt.title(title)\n",
        "    plt.ylabel(metric)\n",
        "    plt.xlabel(\"epoch\")\n",
        "    plt.show()\n",
        "\n",
        "\n",
        "# Plot the accuracy\n",
        "plt_metric(history=history.history, metric=\"accuracy\", title=\"Model accuracy\")\n",
        "\n",
        "# Plot the constrastive loss\n",
        "plt_metric(history=history.history, metric=\"loss\", title=\"Constrastive Loss\")"
      ]
    },
    {
      "cell_type": "markdown",
      "metadata": {},
      "source": [
        "# Evaluate the model"
      ]
    },
    {
      "cell_type": "code",
      "execution_count": 44,
      "metadata": {
        "colab": {
          "base_uri": "https://localhost:8080/"
        },
        "id": "hRv4RjGqyRHZ",
        "outputId": "ea7ef5b2-a5cb-4828-8819-1d01c41f62f9"
      },
      "outputs": [
        {
          "name": "stdout",
          "output_type": "stream",
          "text": [
            "625/625 [==============================] - 7s 11ms/step - loss: 0.0159 - accuracy: 0.9791\n",
            "test loss, test acc: [0.015949539840221405, 0.9790999889373779]\n"
          ]
        }
      ],
      "source": [
        "results = siamese.evaluate([x_test_1, x_test_2], labels_test)\n",
        "print(\"test loss, test acc:\", results)"
      ]
    },
    {
      "cell_type": "markdown",
      "metadata": {},
      "source": [
        "# Visualize the predictions"
      ]
    },
    {
      "cell_type": "code",
      "execution_count": 45,
      "metadata": {
        "colab": {
          "base_uri": "https://localhost:8080/",
          "height": 229
        },
        "id": "10KcL0OqyRKf",
        "outputId": "61ed67b3-a38c-44fd-a970-351e9fbabdf4"
      },
      "outputs": [
        {
          "name": "stdout",
          "output_type": "stream",
          "text": [
            "625/625 [==============================] - 12s 18ms/step\n"
          ]
        },
        {
          "data": {
            "image/png": "[encoded data removed]",
            "text/plain": [
              "<Figure size 500x500 with 3 Axes>"
            ]
          },
          "metadata": {},
          "output_type": "display_data"
        }
      ],
      "source": [
        "predictions = siamese.predict([x_test_1, x_test_2])\n",
        "visualize(pairs_test, labels_test, to_show=3, predictions=predictions, test=True)"
      ]
    }
  ],
  "metadata": {
    "colab": {
      "provenance": []
    },
    "kernelspec": {
      "display_name": "Python 3",
      "name": "python3"
    },
    "language_info": {
      "name": "python"
    }
  },
  "nbformat": 4,
  "nbformat_minor": 0
}
